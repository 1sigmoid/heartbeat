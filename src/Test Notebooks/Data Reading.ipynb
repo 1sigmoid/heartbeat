{
 "cells": [
  {
   "cell_type": "code",
   "execution_count": 39,
   "metadata": {},
   "outputs": [],
   "source": [
    "import json\n",
    "import os\n",
    "import re"
   ]
  },
  {
   "cell_type": "code",
   "execution_count": 40,
   "metadata": {},
   "outputs": [],
   "source": [
    "entries = os.listdir(\"./../../datasets/cord19/biorxiv_medrxiv/biorxiv_medrxiv/\")"
   ]
  },
  {
   "cell_type": "code",
   "execution_count": 41,
   "metadata": {},
   "outputs": [],
   "source": [
    "s = \"./../../datasets/cord19/biorxiv_medrxiv/biorxiv_medrxiv/\""
   ]
  },
  {
   "cell_type": "code",
   "execution_count": 44,
   "metadata": {},
   "outputs": [],
   "source": [
    "datals = [] # for storing all the dictionaries made from the json files"
   ]
  },
  {
   "cell_type": "code",
   "execution_count": 45,
   "metadata": {},
   "outputs": [],
   "source": [
    "## reading the files from the directory\n",
    "for i in entries:\n",
    "    with open(s+i) as f:\n",
    "        dat = json.load(f)\n",
    "        datals.append(dat)\n"
   ]
  },
  {
   "cell_type": "code",
   "execution_count": 28,
   "metadata": {},
   "outputs": [
    {
     "data": {
      "text/plain": [
       "'e476334b4f415f8fde5e2f560fd1ad0fa314af90.json'"
      ]
     },
     "execution_count": 28,
     "metadata": {},
     "output_type": "execute_result"
    }
   ],
   "source": [
    "entries[0]"
   ]
  },
  {
   "cell_type": "code",
   "execution_count": 29,
   "metadata": {},
   "outputs": [],
   "source": [
    "## cite_spans\n",
    "## ref_spans\n",
    "## bib_entries"
   ]
  },
  {
   "cell_type": "code",
   "execution_count": 30,
   "metadata": {},
   "outputs": [
    {
     "data": {
      "text/plain": [
       "dict_keys(['paper_id', 'metadata', 'abstract', 'body_text', 'bib_entries', 'ref_entries', 'back_matter'])"
      ]
     },
     "execution_count": 30,
     "metadata": {},
     "output_type": "execute_result"
    }
   ],
   "source": [
    "datals[0].keys()"
   ]
  },
  {
   "cell_type": "markdown",
   "metadata": {},
   "source": [
    "No need paper id\n",
    "No need metadata\n",
    "We need the text in abstract"
   ]
  },
  {
   "cell_type": "code",
   "execution_count": 31,
   "metadata": {},
   "outputs": [],
   "source": [
    "abstractls = []\n",
    "bodyls = []\n",
    "needed = []"
   ]
  },
  {
   "cell_type": "code",
   "execution_count": 32,
   "metadata": {},
   "outputs": [],
   "source": [
    "for i in range(len(datals)):\n",
    "    cur = datals[i]\n",
    "    for i in range(len(cur[\"abstract\"])):\n",
    "        curdic = cur[\"abstract\"][i]\n",
    "        txt = curdic[\"text\"]\n",
    "        if len(txt) > 200:\n",
    "            needed.append(txt)\n",
    "    abstractls.append(needed)\n",
    "    needed = []\n",
    "    for i in range(len(cur[\"body_text\"])):\n",
    "        curdic = cur[\"body_text\"][i]\n",
    "        txt = curdic[\"text\"]\n",
    "        if len(txt) > 200:\n",
    "            needed.append(txt)\n",
    "    bodyls.append(needed)\n",
    "    needed = []"
   ]
  },
  {
   "cell_type": "code",
   "execution_count": 35,
   "metadata": {},
   "outputs": [
    {
     "name": "stdout",
     "output_type": "stream",
     "text": [
      "1770\n",
      "1770\n"
     ]
    }
   ],
   "source": [
    "print(len(bodyls))\n",
    "print(len(abstractls))"
   ]
  },
  {
   "cell_type": "code",
   "execution_count": 37,
   "metadata": {},
   "outputs": [
    {
     "name": "stdout",
     "output_type": "stream",
     "text": [
      "['Pleiotropy, the concept that a single gene controls multiple distinct traits, is prevalent in most organisms and has broad implications for medicine and agriculture. Identifying the molecular mechanisms underlying pleiotropy has the power to unveil previously unknown biological connections between seemingly unrelated traits. Additionally, the discovery of pleiotropic genes increases our understanding of both genetic and phenotypic complexity by characterizing novel gene functions. Quantitative trait locus (QTL) mapping has been used to identify several pleiotropic regions in many organisms. However, gene knockout studies are needed to eliminate the possibility of tightly linked, non-pleiotropic loci. Here, we use a panel of 296 recombinant inbred advanced intercross lines of Caenorhabditis elegans and a high-throughput fitness assay to identify a single large-effect QTL on the center of chromosome V associated with variation in responses to eight chemotherapeutics. We validate this QTL with near-isogenic lines and pair genome-wide gene expression data with drug response traits to perform mediation analysis, leading to the identification of a pleiotropic candidate gene, scb-1 . Using deletion strains created by genome editing, we show that scb-1 , which was previously implicated in response to bleomycin, also underlies responses to other double-strand DNA break-inducing chemotherapeutics. This finding provides new evidence for the role of scb-1 in the nematode drug response and highlights the power of mediation analysis to identify causal genes. : bioRxiv preprint / Here, we use linkage mapping to identify a single overlapping QTL on chromosome V that influences the responses to eight chemotherapeutic compounds. We show that these drug-response QTL also overlap with an expression QTL hotspot that contains the gene scb-1 , previously implicated in bleomycin response (Brady et al. 2019) . Although the exact mechanism of scb-1 is yet unknown, it is hypothesized to act in response to stress (Riedel et al. 2013 ) and has weak homology to a viral hydrolase (Zhang et al. 2018; Kelley et al. 2015) . Together, these data suggest that the importance of scb-1 expression might extend beyond bleomycin response. We validated the QTL using near-isogenic lines (NILs) and performed mediation analysis to predict that scb-1 expression explains the observed QTL for five of the eight drugs. Finally, we directly tested the effect of scb-1 loss of function on chemotherapeutic responses. We discovered that expression of scb-1 underlies differential responses to several chemotherapeutics that cause double-strand DNA breaks, not just bleomycin. This discovery of pleiotropy helps to further define the role of scb-1 by expanding its known functions and provides insights into the molecular mechanisms underlying the nematode drug response.', 'Animals were grown at 20°C on modified nematode growth media (NGMA) containing 1% agar and 0.7% agarose to prevent burrowing and fed OP50 ( Ghosh et al. 2012) . The two parental strains, the canonical laboratory strain, N2, and the wild isolate from Hawaii, CB4856, were used to generate all recombinant lines. 208 recombinant inbred advanced intercross lines (RIAILs) generated previously by Rockman et al. (Rockman and Kruglyak 2009) (set 1 RIAILs) were phenotyped for expression QTL mapping (detailed below). A second set of 296 RIAILs generated previously by Andersen et al. (Andersen et al. 2015) (set 2 RIAILs) was used more extensively for drug phenotyping and linkage mapping. Near-isogenic lines (NILs) were generated by backcrossing a selected RIAIL for several generations (Brady et al. 2019) , using PCR amplicons for insertion-deletion (indels) variants to track the introgressed region. NILs were whole-genome sequenced to verify clean introgressions. CRISPR-Cas9-mediated deletions of scb-1 were described in Brady et al. (Brady et al. 2019) . All strains are available upon request or from the C. elegans Natural Diversity Resource (Cook et al. 2016) .', 'For dose responses and RIAIL phenotyping, we used a high-throughput fitness assay (HTA) described previously . In summary, populations of each strain were passaged and amplified on NGMA plates for four generations. In the fifth generation, gravid adults were bleach-synchronized and 25-50 embryos from each strain were aliquoted into 96-well microtiter plates at a final volume of 50 µL K medium (Boyd, Smith, and Freedman 2012) . The following day, arrested L1s were fed HB101 bacterial lysate (Pennsylvania State University Shared Fermentation Facility, State College, PA; (García-González et al. 2017) ) at a final concentration of 5 mg/mL in K medium and were grown to the L4 larval stage for 48 hours at 20°C with constant shaking. Three L4 larvae were sorted into new 96-well microtiter plates containing 10 mg/mL HB101 bacterial lysate, 50 µM kanamycin, and either diluent (1% water or 4 . CC-BY 4.0 : bioRxiv preprint / Figure 3. Expression QTL mapping identifies several hotspots. (A) The genomic locations of the eQTL peaks (x-axis) are plotted against the genomic locations of the probe (y-axis). The size of the point corresponds to the effect size of the QTL. eQTL are colored by the LOD score, increasing from purple to pink to yellow. The diagonal band represents local eQTL, and vertical bands represent eQTL hotspots. (B) Quantification of eQTL hotspots identified by overlapping distant eQTL. The number of distant eQTL (y-axis) in each 5 cM bin across the genome (x-axis) is shown. Bins above the red line are significant and marked with an asterisk. The dotted vertical line represents the genomic position of scb-1 . : bioRxiv preprint / Figure 4. Local mediation analysis for scb-1 . Mediation estimates calculated as the fraction of the total QTL effect explained by differences in expression of each gene (y-axis) are plotted against genomic position of the gene (x-axis) on chromosome V for 74 probes surrounding scb-1 (red diamond). The 95th percentile of the distribution of mediation estimates for each trait are represented by the horizontal grey lines. The confidence intervals for QTL are shown with the vertical blue dotted lines. The confidence of the estimate increases (p-value decreases) as points become less transparent. : bioRxiv preprint / Figure 5. Testing the role of scb-1 in drug responses. (A) Strain genotypes on chromosome V are shown, colored orange (N2) and blue (CB4856). From top to bottom, strains are N2, ECA1132, ECA1134, and CB4856. Deletion of scb-1 is indicated by a grey triangle. The dotted vertical line represents the location of scb-1 . (B)', 'Phenotypes are plotted as Tukey box plots with strain (y-axis) by relative residual animal length (x-axis). Statistical significance of each deletion strain compared to its parental strain (ECA1132 to N2 and ECA1134 to CB4856) is shown above each strain and colored by the parent strain against which it was tested (ns = non-significant (p-value > 0.05);']\n"
     ]
    }
   ],
   "source": [
    "print(abstractls[0])"
   ]
  }
 ],
 "metadata": {
  "kernelspec": {
   "display_name": "Python 3",
   "language": "python",
   "name": "python3"
  },
  "language_info": {
   "codemirror_mode": {
    "name": "ipython",
    "version": 3
   },
   "file_extension": ".py",
   "mimetype": "text/x-python",
   "name": "python",
   "nbconvert_exporter": "python",
   "pygments_lexer": "ipython3",
   "version": "3.8.2"
  }
 },
 "nbformat": 4,
 "nbformat_minor": 4
}
