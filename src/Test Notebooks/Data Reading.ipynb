{
 "cells": [
  {
   "cell_type": "code",
   "execution_count": 1,
   "metadata": {},
   "outputs": [],
   "source": [
    "import json\n",
    "import os\n",
    "import re\n",
    "import nltk"
   ]
  },
  {
   "cell_type": "code",
   "execution_count": 2,
   "metadata": {},
   "outputs": [
    {
     "name": "stderr",
     "output_type": "stream",
     "text": [
      "[nltk_data] Downloading package stopwords to /home/sumuk/nltk_data...\n",
      "[nltk_data]   Package stopwords is already up-to-date!\n"
     ]
    }
   ],
   "source": [
    "nltk.download('stopwords')\n",
    "from nltk.corpus import stopwords\n",
    "from nltk.stem.porter import PorterStemmer"
   ]
  },
  {
   "cell_type": "code",
   "execution_count": 3,
   "metadata": {},
   "outputs": [],
   "source": [
    "entries = os.listdir(\"./../../datasets/cord19/biorxiv_medrxiv/biorxiv_medrxiv/\")"
   ]
  },
  {
   "cell_type": "code",
   "execution_count": 4,
   "metadata": {},
   "outputs": [],
   "source": [
    "s = \"./../../datasets/cord19/biorxiv_medrxiv/biorxiv_medrxiv/\""
   ]
  },
  {
   "cell_type": "code",
   "execution_count": 5,
   "metadata": {},
   "outputs": [],
   "source": [
    "datals = [] # for storing all the dictionaries made from the json files"
   ]
  },
  {
   "cell_type": "code",
   "execution_count": 6,
   "metadata": {},
   "outputs": [],
   "source": [
    "## reading the files from the directory\n",
    "for i in entries:\n",
    "    with open(s+i) as f:\n",
    "        dat = json.load(f)\n",
    "        datals.append(dat)\n"
   ]
  },
  {
   "cell_type": "code",
   "execution_count": 7,
   "metadata": {},
   "outputs": [
    {
     "data": {
      "text/plain": [
       "'e476334b4f415f8fde5e2f560fd1ad0fa314af90.json'"
      ]
     },
     "execution_count": 7,
     "metadata": {},
     "output_type": "execute_result"
    }
   ],
   "source": [
    "entries[0]"
   ]
  },
  {
   "cell_type": "code",
   "execution_count": 8,
   "metadata": {},
   "outputs": [],
   "source": [
    "## cite_spans\n",
    "## ref_spans\n",
    "## bib_entries"
   ]
  },
  {
   "cell_type": "code",
   "execution_count": 9,
   "metadata": {},
   "outputs": [
    {
     "data": {
      "text/plain": [
       "dict_keys(['paper_id', 'metadata', 'abstract', 'body_text', 'bib_entries', 'ref_entries', 'back_matter'])"
      ]
     },
     "execution_count": 9,
     "metadata": {},
     "output_type": "execute_result"
    }
   ],
   "source": [
    "datals[0].keys()"
   ]
  },
  {
   "cell_type": "markdown",
   "metadata": {},
   "source": [
    "No need paper id\n",
    "No need metadata\n",
    "We need the text in abstract"
   ]
  },
  {
   "cell_type": "code",
   "execution_count": 10,
   "metadata": {},
   "outputs": [],
   "source": [
    "abstractls = []\n",
    "bodyls = []\n",
    "needed = []"
   ]
  },
  {
   "cell_type": "code",
   "execution_count": 11,
   "metadata": {},
   "outputs": [],
   "source": [
    "for i in range(len(datals)):\n",
    "    cur = datals[i]\n",
    "    for j in range(len(cur[\"abstract\"])):\n",
    "        curdic = cur[\"abstract\"][j]\n",
    "        txt = curdic[\"text\"]\n",
    "        if len(txt) > 200:\n",
    "            needed.append(txt)\n",
    "    abstractls.append(needed)\n",
    "    needed = []\n",
    "    for k in range(len(cur[\"body_text\"])):\n",
    "        curdic = cur[\"body_text\"][k]\n",
    "        txt = curdic[\"text\"]\n",
    "        if len(txt) > 200:\n",
    "            needed.append(txt)\n",
    "    bodyls.append(needed)\n",
    "    needed = []"
   ]
  },
  {
   "cell_type": "code",
   "execution_count": 12,
   "metadata": {},
   "outputs": [
    {
     "name": "stdout",
     "output_type": "stream",
     "text": [
      "885\n",
      "885\n"
     ]
    }
   ],
   "source": [
    "print(len(bodyls))\n",
    "print(len(abstractls))"
   ]
  },
  {
   "cell_type": "code",
   "execution_count": 13,
   "metadata": {},
   "outputs": [],
   "source": [
    "ps = PorterStemmer()\n",
    "for i in range(len(bodyls)):\n",
    "    current_list = bodyls[i]\n",
    "    for j in range(len(current_list)):\n",
    "        bodyls[i][j] = bodyls[i][j].lower()\n",
    "        bodyls[i][j] = re.sub('[^a-zA-Z]', ' ', bodyls[i][j])\n",
    "        bodyls[i][j] = bodyls[i][j].split()\n",
    "        bodyls[i][j] = [ps.stem(word) for word in bodyls[i][j] if not word in set(stopwords.words('english'))]\n",
    "        bodyls[i][j] = ''.join(bodyls[i][j])\n",
    "    clist2 = abstractls[i]\n",
    "    for k in range(len(clist2)):\n",
    "        abstractls[i][k] = abstractls[i][k].lower()\n",
    "        abstractls[i][k] = re.sub('[^a-zA-Z]', ' ', abstractls[i][k])\n",
    "        abstractls[i][k] = abstractls[i][k].split()\n",
    "        abstractls[i][k] = [ps.stem(word) for word in abstractls[i][k] if not word in set(stopwords.words('english'))]\n",
    "        abstractls[i][k] = ' '.join(abstractls[i][k])"
   ]
  },
  {
   "cell_type": "code",
   "execution_count": 16,
   "metadata": {},
   "outputs": [
    {
     "ename": "TypeError",
     "evalue": "write() argument must be str, not list",
     "output_type": "error",
     "traceback": [
      "\u001b[0;31m---------------------------------------------------------------------------\u001b[0m",
      "\u001b[0;31mTypeError\u001b[0m                                 Traceback (most recent call last)",
      "\u001b[0;32m<ipython-input-16-5c3d3ab62d63>\u001b[0m in \u001b[0;36m<module>\u001b[0;34m\u001b[0m\n\u001b[1;32m      1\u001b[0m \u001b[0;32mwith\u001b[0m \u001b[0mopen\u001b[0m\u001b[0;34m(\u001b[0m\u001b[0;34m\"abstract.txt\"\u001b[0m\u001b[0;34m,\u001b[0m \u001b[0;34m\"w+\"\u001b[0m\u001b[0;34m)\u001b[0m \u001b[0;32mas\u001b[0m \u001b[0mf\u001b[0m\u001b[0;34m:\u001b[0m\u001b[0;34m\u001b[0m\u001b[0;34m\u001b[0m\u001b[0m\n\u001b[0;32m----> 2\u001b[0;31m     \u001b[0mf\u001b[0m\u001b[0;34m.\u001b[0m\u001b[0mwrite\u001b[0m\u001b[0;34m(\u001b[0m\u001b[0mabstractls\u001b[0m\u001b[0;34m)\u001b[0m\u001b[0;34m\u001b[0m\u001b[0;34m\u001b[0m\u001b[0m\n\u001b[0m\u001b[1;32m      3\u001b[0m \u001b[0;32mwith\u001b[0m \u001b[0mopen\u001b[0m\u001b[0;34m(\u001b[0m\u001b[0;34m\"body.txt\"\u001b[0m\u001b[0;34m,\u001b[0m \u001b[0;34m\"w+\"\u001b[0m\u001b[0;34m)\u001b[0m \u001b[0;32mas\u001b[0m \u001b[0mf\u001b[0m\u001b[0;34m:\u001b[0m\u001b[0;34m\u001b[0m\u001b[0;34m\u001b[0m\u001b[0m\n\u001b[1;32m      4\u001b[0m     \u001b[0mf\u001b[0m\u001b[0;34m.\u001b[0m\u001b[0mwrite\u001b[0m\u001b[0;34m(\u001b[0m\u001b[0mbody\u001b[0m\u001b[0;34m)\u001b[0m\u001b[0;34m\u001b[0m\u001b[0;34m\u001b[0m\u001b[0m\n",
      "\u001b[0;31mTypeError\u001b[0m: write() argument must be str, not list"
     ]
    }
   ],
   "source": [
    "with open(\"abstract.txt\", \"w+\") as f:\n",
    "    f.write(str(abstractls))\n",
    "with open(\"body.txt\", \"w+\") as f:\n",
    "    f.write(body)"
   ]
  }
 ],
 "metadata": {
  "kernelspec": {
   "display_name": "Python 3",
   "language": "python",
   "name": "python3"
  },
  "language_info": {
   "codemirror_mode": {
    "name": "ipython",
    "version": 3
   },
   "file_extension": ".py",
   "mimetype": "text/x-python",
   "name": "python",
   "nbconvert_exporter": "python",
   "pygments_lexer": "ipython3",
   "version": "3.8.2"
  }
 },
 "nbformat": 4,
 "nbformat_minor": 4
}
