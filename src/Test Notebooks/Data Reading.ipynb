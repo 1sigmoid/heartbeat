{
 "cells": [
  {
   "cell_type": "code",
   "execution_count": 1,
   "metadata": {},
   "outputs": [],
   "source": [
    "import json\n",
    "import os\n",
    "import re\n",
    "import nltk"
   ]
  },
  {
   "cell_type": "code",
   "execution_count": 2,
   "metadata": {},
   "outputs": [
    {
     "name": "stderr",
     "output_type": "stream",
     "text": [
      "[nltk_data] Downloading package stopwords to /home/sumuk/nltk_data...\n",
      "[nltk_data]   Unzipping corpora/stopwords.zip.\n"
     ]
    }
   ],
   "source": [
    "nltk.download('stopwords')\n",
    "from nltk.corpus import stopwords\n",
    "from nltk.stem.porter import PorterStemmer"
   ]
  },
  {
   "cell_type": "code",
   "execution_count": 3,
   "metadata": {},
   "outputs": [],
   "source": [
    "entries = os.listdir(\"./../../datasets/cord19/biorxiv_medrxiv/biorxiv_medrxiv/\")"
   ]
  },
  {
   "cell_type": "code",
   "execution_count": 4,
   "metadata": {},
   "outputs": [],
   "source": [
    "s = \"./../../datasets/cord19/biorxiv_medrxiv/biorxiv_medrxiv/\""
   ]
  },
  {
   "cell_type": "code",
   "execution_count": 5,
   "metadata": {},
   "outputs": [],
   "source": [
    "datals = [] # for storing all the dictionaries made from the json files"
   ]
  },
  {
   "cell_type": "code",
   "execution_count": 6,
   "metadata": {},
   "outputs": [],
   "source": [
    "## reading the files from the directory\n",
    "for i in entries:\n",
    "    with open(s+i) as f:\n",
    "        dat = json.load(f)\n",
    "        datals.append(dat)\n"
   ]
  },
  {
   "cell_type": "code",
   "execution_count": 7,
   "metadata": {},
   "outputs": [
    {
     "data": {
      "text/plain": [
       "'e476334b4f415f8fde5e2f560fd1ad0fa314af90.json'"
      ]
     },
     "execution_count": 7,
     "metadata": {},
     "output_type": "execute_result"
    }
   ],
   "source": [
    "entries[0]"
   ]
  },
  {
   "cell_type": "code",
   "execution_count": 8,
   "metadata": {},
   "outputs": [],
   "source": [
    "## cite_spans\n",
    "## ref_spans\n",
    "## bib_entries"
   ]
  },
  {
   "cell_type": "code",
   "execution_count": 9,
   "metadata": {},
   "outputs": [
    {
     "data": {
      "text/plain": [
       "dict_keys(['paper_id', 'metadata', 'abstract', 'body_text', 'bib_entries', 'ref_entries', 'back_matter'])"
      ]
     },
     "execution_count": 9,
     "metadata": {},
     "output_type": "execute_result"
    }
   ],
   "source": [
    "datals[0].keys()"
   ]
  },
  {
   "cell_type": "markdown",
   "metadata": {},
   "source": [
    "No need paper id\n",
    "No need metadata\n",
    "We need the text in abstract"
   ]
  },
  {
   "cell_type": "code",
   "execution_count": 10,
   "metadata": {},
   "outputs": [],
   "source": [
    "abstractls = []\n",
    "bodyls = []\n",
    "needed = []"
   ]
  },
  {
   "cell_type": "code",
   "execution_count": 11,
   "metadata": {},
   "outputs": [],
   "source": [
    "for i in range(len(datals)):\n",
    "    cur = datals[i]\n",
    "    for j in range(len(cur[\"abstract\"])):\n",
    "        curdic = cur[\"abstract\"][j]\n",
    "        txt = curdic[\"text\"]\n",
    "        if len(txt) > 200:\n",
    "            needed.append(txt)\n",
    "    abstractls.append(needed)\n",
    "    needed = []\n",
    "    for k in range(len(cur[\"body_text\"])):\n",
    "        curdic = cur[\"body_text\"][k]\n",
    "        txt = curdic[\"text\"]\n",
    "        if len(txt) > 200:\n",
    "            needed.append(txt)\n",
    "    bodyls.append(needed)\n",
    "    needed = []"
   ]
  },
  {
   "cell_type": "code",
   "execution_count": 12,
   "metadata": {},
   "outputs": [
    {
     "name": "stdout",
     "output_type": "stream",
     "text": [
      "885\n",
      "885\n"
     ]
    }
   ],
   "source": [
    "print(len(bodyls))\n",
    "print(len(abstractls))"
   ]
  },
  {
   "cell_type": "code",
   "execution_count": 13,
   "metadata": {},
   "outputs": [],
   "source": [
    "for i in range(len(bodyls)):\n",
    "    current_list = bodyls[i]\n",
    "    for j in range(len(current_list)):\n",
    "        bodyls[i][j] = bodyls[i][j].lower()\n",
    "        bodyls[i][j] = re.sub('[^a-zA-Z]', ' ', bodyls[i][j])\n",
    "    clist2 = abstractls[i]\n",
    "    for k in range(len(clist2)):\n",
    "        abstractls[i][k] = abstractls[i][k].lower()\n",
    "        abstractls[i][k] = re.sub('[^a-zA-Z]', ' ', abstractls[i][k])"
   ]
  },
  {
   "cell_type": "code",
   "execution_count": 14,
   "metadata": {},
   "outputs": [
    {
     "name": "stdout",
     "output_type": "stream",
     "text": [
      "['pleiotropy  the concept that a single gene controls multiple distinct traits  is prevalent in most organisms and has broad implications for medicine and agriculture  identifying the molecular mechanisms underlying pleiotropy has the power to unveil previously unknown biological connections between seemingly unrelated traits  additionally  the discovery of pleiotropic genes increases our understanding of both genetic and phenotypic complexity by characterizing novel gene functions  quantitative trait locus  qtl  mapping has been used to identify several pleiotropic regions in many organisms  however  gene knockout studies are needed to eliminate the possibility of tightly linked  non pleiotropic loci  here  we use a panel of     recombinant inbred advanced intercross lines of caenorhabditis elegans and a high throughput fitness assay to identify a single large effect qtl on the center of chromosome v associated with variation in responses to eight chemotherapeutics  we validate this qtl with near isogenic lines and pair genome wide gene expression data with drug response traits to perform mediation analysis  leading to the identification of a pleiotropic candidate gene  scb     using deletion strains created by genome editing  we show that scb     which was previously implicated in response to bleomycin  also underlies responses to other double strand dna break inducing chemotherapeutics  this finding provides new evidence for the role of scb   in the nematode drug response and highlights the power of mediation analysis to identify causal genes    biorxiv preprint   here  we use linkage mapping to identify a single overlapping qtl on chromosome v that influences the responses to eight chemotherapeutic compounds  we show that these drug response qtl also overlap with an expression qtl hotspot that contains the gene scb     previously implicated in bleomycin response  brady et al          although the exact mechanism of scb   is yet unknown  it is hypothesized to act in response to stress  riedel et al         and has weak homology to a viral hydrolase  zhang et al        kelley et al          together  these data suggest that the importance of scb   expression might extend beyond bleomycin response  we validated the qtl using near isogenic lines  nils  and performed mediation analysis to predict that scb   expression explains the observed qtl for five of the eight drugs  finally  we directly tested the effect of scb   loss of function on chemotherapeutic responses  we discovered that expression of scb   underlies differential responses to several chemotherapeutics that cause double strand dna breaks  not just bleomycin  this discovery of pleiotropy helps to further define the role of scb   by expanding its known functions and provides insights into the molecular mechanisms underlying the nematode drug response ', 'animals were grown at    c on modified nematode growth media  ngma  containing    agar and      agarose to prevent burrowing and fed op     ghosh et al          the two parental strains  the canonical laboratory strain  n   and the wild isolate from hawaii  cb      were used to generate all recombinant lines      recombinant inbred advanced intercross lines  riails  generated previously by rockman et al   rockman and kruglyak        set   riails  were phenotyped for expression qtl mapping  detailed below   a second set of     riails generated previously by andersen et al   andersen et al         set   riails  was used more extensively for drug phenotyping and linkage mapping  near isogenic lines  nils  were generated by backcrossing a selected riail for several generations  brady et al          using pcr amplicons for insertion deletion  indels  variants to track the introgressed region  nils were whole genome sequenced to verify clean introgressions  crispr cas  mediated deletions of scb   were described in brady et al   brady et al          all strains are available upon request or from the c  elegans natural diversity resource  cook et al         ', 'for dose responses and riail phenotyping  we used a high throughput fitness assay  hta  described previously   in summary  populations of each strain were passaged and amplified on ngma plates for four generations  in the fifth generation  gravid adults were bleach synchronized and       embryos from each strain were aliquoted into    well microtiter plates at a final volume of     l k medium  boyd  smith  and freedman         the following day  arrested l s were fed hb    bacterial lysate  pennsylvania state university shared fermentation facility  state college  pa   garc a gonz lez et al          at a final concentration of   mg ml in k medium and were grown to the l  larval stage for    hours at    c with constant shaking  three l  larvae were sorted into new    well microtiter plates containing    mg ml hb    bacterial lysate      m kanamycin  and either diluent     water or     cc by       biorxiv preprint   figure    expression qtl mapping identifies several hotspots   a  the genomic locations of the eqtl peaks  x axis  are plotted against the genomic locations of the probe  y axis   the size of the point corresponds to the effect size of the qtl  eqtl are colored by the lod score  increasing from purple to pink to yellow  the diagonal band represents local eqtl  and vertical bands represent eqtl hotspots   b  quantification of eqtl hotspots identified by overlapping distant eqtl  the number of distant eqtl  y axis  in each   cm bin across the genome  x axis  is shown  bins above the red line are significant and marked with an asterisk  the dotted vertical line represents the genomic position of scb       biorxiv preprint   figure    local mediation analysis for scb     mediation estimates calculated as the fraction of the total qtl effect explained by differences in expression of each gene  y axis  are plotted against genomic position of the gene  x axis  on chromosome v for    probes surrounding scb    red diamond   the   th percentile of the distribution of mediation estimates for each trait are represented by the horizontal grey lines  the confidence intervals for qtl are shown with the vertical blue dotted lines  the confidence of the estimate increases  p value decreases  as points become less transparent    biorxiv preprint   figure    testing the role of scb   in drug responses   a  strain genotypes on chromosome v are shown  colored orange  n   and blue  cb       from top to bottom  strains are n   eca      eca      and cb      deletion of scb   is indicated by a grey triangle  the dotted vertical line represents the location of scb      b ', 'phenotypes are plotted as tukey box plots with strain  y axis  by relative residual animal length  x axis   statistical significance of each deletion strain compared to its parental strain  eca     to n  and eca     to cb      is shown above each strain and colored by the parent strain against which it was tested  ns   non significant  p value         ']\n"
     ]
    }
   ],
   "source": [
    "print(abstractls[0])"
   ]
  }
 ],
 "metadata": {
  "kernelspec": {
   "display_name": "Python 3",
   "language": "python",
   "name": "python3"
  },
  "language_info": {
   "codemirror_mode": {
    "name": "ipython",
    "version": 3
   },
   "file_extension": ".py",
   "mimetype": "text/x-python",
   "name": "python",
   "nbconvert_exporter": "python",
   "pygments_lexer": "ipython3",
   "version": "3.8.2"
  }
 },
 "nbformat": 4,
 "nbformat_minor": 4
}
